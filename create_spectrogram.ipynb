{
 "cells": [
  {
   "cell_type": "code",
   "execution_count": 48,
   "metadata": {},
   "outputs": [],
   "source": [
    "import os\n",
    "import numpy as np\n",
    "import librosa\n",
    "from sklearn.model_selection import train_test_split\n",
    "import matplotlib.pyplot as plt\n",
    "import cv2"
   ]
  },
  {
   "cell_type": "code",
   "execution_count": 49,
   "metadata": {},
   "outputs": [],
   "source": [
    "# Path to the folders containing the sound files\n",
    "folders = ['./Sound Source/Angry', './Sound Source/Calm', './Sound Source/Happy', './Sound Source/Sad']\n"
   ]
  },
  {
   "cell_type": "code",
   "execution_count": 50,
   "metadata": {},
   "outputs": [],
   "source": [
    "# Path to save the spectrograms\n",
    "save_path = './My Spectrograms'"
   ]
  },
  {
   "cell_type": "code",
   "execution_count": 51,
   "metadata": {},
   "outputs": [],
   "source": [
    "# Create Train and Test folders\n",
    "os.makedirs(os.path.join(save_path, 'Train'), exist_ok=True)\n",
    "os.makedirs(os.path.join(save_path, 'Test'), exist_ok=True)"
   ]
  },
  {
   "cell_type": "code",
   "execution_count": 52,
   "metadata": {},
   "outputs": [],
   "source": [
    "import librosa\n",
    "\n",
    "def preprocess_audio(audio_path, sr=22050, duration=2, n_mels=128, image_size=(600, 400)):\n",
    "    # Load audio file\n",
    "    audio, _ = librosa.load(audio_path, sr=sr, duration=duration, mono=True)\n",
    "\n",
    "    # Convert audio to spectrogram\n",
    "    spectrogram = librosa.feature.melspectrogram(y=audio, sr=sr, n_mels=n_mels)\n",
    "    spectrogram = librosa.power_to_db(spectrogram, ref=np.max)\n",
    "\n",
    "    # Resize spectrogram to match the input shape of the model\n",
    "    spectrogram = cv2.resize(spectrogram, dsize=image_size[::-1], interpolation=cv2.INTER_CUBIC)\n",
    "\n",
    "\n",
    "    # Convert single-channel spectrogram to three-channel image\n",
    "    spectrogram_rgb = np.stack((spectrogram,) * 3, axis=-1)\n",
    "\n",
    "\n",
    "\n",
    "\n",
    "    return spectrogram_rgb[:, :, :3]"
   ]
  },
  {
   "cell_type": "code",
   "execution_count": 53,
   "metadata": {},
   "outputs": [],
   "source": [
    "def normalize_spectrogram(spectrogram):\n",
    "    # Normalize the spectrogram data\n",
    "    normalized_spectrogram = ((spectrogram - np.min(spectrogram)) / (np.max(spectrogram) - np.min(spectrogram)) * 255).astype(np.uint8)\n",
    "    return normalized_spectrogram"
   ]
  },
  {
   "cell_type": "code",
   "execution_count": 54,
   "metadata": {},
   "outputs": [],
   "source": [
    "# Iterate over each folder\n",
    "for folder in folders:\n",
    "    # Get a list of all sound files in the folder\n",
    "    files = [f for f in os.listdir(folder) if f.endswith('.wav')]\n",
    "    \n",
    "    # Split the files into Train and Test sets\n",
    "    train_files, test_files = train_test_split(files, test_size=0.2, random_state=42)\n",
    "    \n",
    "    # Process Train files\n",
    "    for file in train_files:\n",
    "        # Load the audio file\n",
    "        audio_path = os.path.join(folder, file)\n",
    "        spectrogram = preprocess_audio(audio_path)\n",
    "        \n",
    "        # Normalize the spectrogram\n",
    "        spectrogram = normalize_spectrogram(spectrogram)  # Function to normalize the spectrogram\n",
    "\n",
    "        # Save the spectrogram\n",
    "        save_folder = os.path.join(save_path, 'Train', os.path.basename(folder))\n",
    "        os.makedirs(save_folder, exist_ok=True)\n",
    "        cv2.imwrite(os.path.join(save_folder, f'{file[:-4]}.png'), spectrogram)\n",
    "        \n",
    "    # Process Test files\n",
    "    for file in test_files:\n",
    "        # Load the audio file\n",
    "        audio_path = os.path.join(folder, file)\n",
    "        spectrogram = preprocess_audio(audio_path)\n",
    "\n",
    "        # Normalize the spectrogram\n",
    "        spectrogram = normalize_spectrogram(spectrogram)  # Function to normalize the spectrogram\n",
    "        \n",
    "        # Save the spectrogram\n",
    "        save_folder = os.path.join(save_path, 'Test', os.path.basename(folder))\n",
    "        os.makedirs(save_folder, exist_ok=True)\n",
    "        cv2.imwrite(os.path.join(save_folder, f'{file[:-4]}.png'), spectrogram)"
   ]
  }
 ],
 "metadata": {
  "kernelspec": {
   "display_name": "Python 3",
   "language": "python",
   "name": "python3"
  },
  "language_info": {
   "codemirror_mode": {
    "name": "ipython",
    "version": 3
   },
   "file_extension": ".py",
   "mimetype": "text/x-python",
   "name": "python",
   "nbconvert_exporter": "python",
   "pygments_lexer": "ipython3",
   "version": "3.12.2"
  }
 },
 "nbformat": 4,
 "nbformat_minor": 2
}
