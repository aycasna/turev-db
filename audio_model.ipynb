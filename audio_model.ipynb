{
 "cells": [
  {
   "cell_type": "code",
   "execution_count": 18,
   "metadata": {},
   "outputs": [],
   "source": [
    "import os\n",
    "import numpy as np\n",
    "import librosa\n",
    "from tensorflow.keras.utils import to_categorical\n",
    "from sklearn.model_selection import train_test_split\n",
    "from tensorflow.keras.models import Sequential, load_model\n",
    "from tensorflow.keras.layers import LSTM, Dense, Dropout\n",
    "from keras.regularizers import l2\n",
    "from keras.callbacks import EarlyStopping\n",
    "from keras.callbacks import ModelCheckpoint"
   ]
  },
  {
   "cell_type": "markdown",
   "metadata": {},
   "source": [
    "LOADING DATASET & SPLITTING IT INTO TRAIN AND TEST"
   ]
  },
  {
   "cell_type": "code",
   "execution_count": 19,
   "metadata": {},
   "outputs": [],
   "source": [
    "def load_data(directory):\n",
    "    labels = []\n",
    "    features = []\n",
    "    for label in os.listdir(directory):\n",
    "        class_path = os.path.join(directory, label)\n",
    "        if os.path.isdir(class_path):\n",
    "            for file in os.listdir(class_path):\n",
    "                file_path = os.path.join(class_path, file)\n",
    "                if file.endswith('.wav'):\n",
    "                    y, sr = librosa.load(file_path, sr=None)\n",
    "                    mfcc = librosa.feature.mfcc(y=y, sr=sr, n_mfcc=13)\n",
    "                    mfcc = np.mean(mfcc.T, axis=0)\n",
    "                    features.append(mfcc)\n",
    "                    labels.append(label)\n",
    "    return features, labels"
   ]
  },
  {
   "cell_type": "code",
   "execution_count": 20,
   "metadata": {},
   "outputs": [],
   "source": [
    "features, labels = load_data('./Sound Source/')"
   ]
  },
  {
   "cell_type": "code",
   "execution_count": 21,
   "metadata": {},
   "outputs": [],
   "source": [
    "label_dict = {label: num for num, label in enumerate(sorted(set(labels)))}\n",
    "numeric_labels = [label_dict[label] for label in labels]"
   ]
  },
  {
   "cell_type": "code",
   "execution_count": 22,
   "metadata": {},
   "outputs": [],
   "source": [
    "X = np.array(features)\n",
    "y = to_categorical(numeric_labels)"
   ]
  },
  {
   "cell_type": "code",
   "execution_count": 23,
   "metadata": {},
   "outputs": [],
   "source": [
    "X_train, X_test, y_train, y_test = train_test_split(X, y, test_size=0.2, random_state=42) "
   ]
  },
  {
   "cell_type": "markdown",
   "metadata": {},
   "source": [
    "CREATING THE MODEL"
   ]
  },
  {
   "cell_type": "code",
   "execution_count": 24,
   "metadata": {},
   "outputs": [],
   "source": [
    "model = Sequential()\n",
    "model.add(LSTM(128, input_shape=(X_train.shape[1], 1), return_sequences=True, kernel_regularizer = l2(0.01)))\n",
    "\n",
    "model.add(Dropout(0.5))\n",
    "model.add(LSTM(64, return_sequences=False, kernel_regularizer=l2(0.01)))\n",
    "model.add(Dense(y_train.shape[1], activation='softmax'))"
   ]
  },
  {
   "cell_type": "code",
   "execution_count": 25,
   "metadata": {},
   "outputs": [],
   "source": [
    "model.compile(loss='categorical_crossentropy', optimizer='adam', metrics=['accuracy'])"
   ]
  },
  {
   "cell_type": "code",
   "execution_count": 26,
   "metadata": {},
   "outputs": [],
   "source": [
    "# define early stopping\n",
    "es = EarlyStopping(monitor='val_loss', mode='min', verbose=1, patience=5)"
   ]
  },
  {
   "cell_type": "code",
   "execution_count": 27,
   "metadata": {},
   "outputs": [],
   "source": [
    "# create a model checkpoint callback\n",
    "mc = ModelCheckpoint('Models/audio_best_model.keras', monitor='val_accuracy', mode='max', verbose=1, save_best_only=True)"
   ]
  },
  {
   "cell_type": "code",
   "execution_count": 28,
   "metadata": {},
   "outputs": [
    {
     "name": "stdout",
     "output_type": "stream",
     "text": [
      "Epoch 1/100\n",
      "\u001b[1m17/18\u001b[0m \u001b[32m━━━━━━━━━━━━━━━━━━\u001b[0m\u001b[37m━━\u001b[0m \u001b[1m0s\u001b[0m 14ms/step - accuracy: 0.3228 - loss: 2.9658\n",
      "Epoch 1: val_accuracy improved from -inf to 0.36727, saving model to Models/audio_best_model.keras\n",
      "\u001b[1m18/18\u001b[0m \u001b[32m━━━━━━━━━━━━━━━━━━━━\u001b[0m\u001b[37m\u001b[0m \u001b[1m3s\u001b[0m 38ms/step - accuracy: 0.3271 - loss: 2.9476 - val_accuracy: 0.3673 - val_loss: 2.4791\n",
      "Epoch 2/100\n",
      "\u001b[1m16/18\u001b[0m \u001b[32m━━━━━━━━━━━━━━━━━\u001b[0m\u001b[37m━━━\u001b[0m \u001b[1m0s\u001b[0m 15ms/step - accuracy: 0.3964 - loss: 2.3894\n",
      "Epoch 2: val_accuracy improved from 0.36727 to 0.38545, saving model to Models/audio_best_model.keras\n",
      "\u001b[1m18/18\u001b[0m \u001b[32m━━━━━━━━━━━━━━━━━━━━\u001b[0m\u001b[37m\u001b[0m \u001b[1m0s\u001b[0m 18ms/step - accuracy: 0.3974 - loss: 2.3735 - val_accuracy: 0.3855 - val_loss: 2.0364\n",
      "Epoch 3/100\n",
      "\u001b[1m17/18\u001b[0m \u001b[32m━━━━━━━━━━━━━━━━━━\u001b[0m\u001b[37m━━\u001b[0m \u001b[1m0s\u001b[0m 14ms/step - accuracy: 0.4332 - loss: 1.9688\n",
      "Epoch 3: val_accuracy improved from 0.38545 to 0.42909, saving model to Models/audio_best_model.keras\n",
      "\u001b[1m18/18\u001b[0m \u001b[32m━━━━━━━━━━━━━━━━━━━━\u001b[0m\u001b[37m\u001b[0m \u001b[1m0s\u001b[0m 18ms/step - accuracy: 0.4320 - loss: 1.9639 - val_accuracy: 0.4291 - val_loss: 1.7585\n",
      "Epoch 4/100\n",
      "\u001b[1m17/18\u001b[0m \u001b[32m━━━━━━━━━━━━━━━━━━\u001b[0m\u001b[37m━━\u001b[0m \u001b[1m0s\u001b[0m 14ms/step - accuracy: 0.4008 - loss: 1.7502\n",
      "Epoch 4: val_accuracy improved from 0.42909 to 0.45091, saving model to Models/audio_best_model.keras\n",
      "\u001b[1m18/18\u001b[0m \u001b[32m━━━━━━━━━━━━━━━━━━━━\u001b[0m\u001b[37m\u001b[0m \u001b[1m0s\u001b[0m 17ms/step - accuracy: 0.4030 - loss: 1.7418 - val_accuracy: 0.4509 - val_loss: 1.5797\n",
      "Epoch 5/100\n",
      "\u001b[1m17/18\u001b[0m \u001b[32m━━━━━━━━━━━━━━━━━━\u001b[0m\u001b[37m━━\u001b[0m \u001b[1m0s\u001b[0m 14ms/step - accuracy: 0.4339 - loss: 1.5540\n",
      "Epoch 5: val_accuracy did not improve from 0.45091\n",
      "\u001b[1m18/18\u001b[0m \u001b[32m━━━━━━━━━━━━━━━━━━━━\u001b[0m\u001b[37m\u001b[0m \u001b[1m0s\u001b[0m 17ms/step - accuracy: 0.4365 - loss: 1.5497 - val_accuracy: 0.4291 - val_loss: 1.4368\n",
      "Epoch 6/100\n",
      "\u001b[1m17/18\u001b[0m \u001b[32m━━━━━━━━━━━━━━━━━━\u001b[0m\u001b[37m━━\u001b[0m \u001b[1m0s\u001b[0m 14ms/step - accuracy: 0.4624 - loss: 1.4170\n",
      "Epoch 6: val_accuracy improved from 0.45091 to 0.50182, saving model to Models/audio_best_model.keras\n",
      "\u001b[1m18/18\u001b[0m \u001b[32m━━━━━━━━━━━━━━━━━━━━\u001b[0m\u001b[37m\u001b[0m \u001b[1m0s\u001b[0m 18ms/step - accuracy: 0.4635 - loss: 1.4136 - val_accuracy: 0.5018 - val_loss: 1.3119\n",
      "Epoch 7/100\n",
      "\u001b[1m17/18\u001b[0m \u001b[32m━━━━━━━━━━━━━━━━━━\u001b[0m\u001b[37m━━\u001b[0m \u001b[1m0s\u001b[0m 14ms/step - accuracy: 0.5056 - loss: 1.3341\n",
      "Epoch 7: val_accuracy did not improve from 0.50182\n",
      "\u001b[1m18/18\u001b[0m \u001b[32m━━━━━━━━━━━━━━━━━━━━\u001b[0m\u001b[37m\u001b[0m \u001b[1m0s\u001b[0m 17ms/step - accuracy: 0.5036 - loss: 1.3342 - val_accuracy: 0.4836 - val_loss: 1.3027\n",
      "Epoch 8/100\n",
      "\u001b[1m18/18\u001b[0m \u001b[32m━━━━━━━━━━━━━━━━━━━━\u001b[0m\u001b[37m\u001b[0m \u001b[1m0s\u001b[0m 14ms/step - accuracy: 0.5038 - loss: 1.2552\n",
      "Epoch 8: val_accuracy did not improve from 0.50182\n",
      "\u001b[1m18/18\u001b[0m \u001b[32m━━━━━━━━━━━━━━━━━━━━\u001b[0m\u001b[37m\u001b[0m \u001b[1m0s\u001b[0m 17ms/step - accuracy: 0.5037 - loss: 1.2559 - val_accuracy: 0.5018 - val_loss: 1.2041\n",
      "Epoch 9/100\n",
      "\u001b[1m17/18\u001b[0m \u001b[32m━━━━━━━━━━━━━━━━━━\u001b[0m\u001b[37m━━\u001b[0m \u001b[1m0s\u001b[0m 15ms/step - accuracy: 0.5376 - loss: 1.1991\n",
      "Epoch 9: val_accuracy improved from 0.50182 to 0.51273, saving model to Models/audio_best_model.keras\n",
      "\u001b[1m18/18\u001b[0m \u001b[32m━━━━━━━━━━━━━━━━━━━━\u001b[0m\u001b[37m\u001b[0m \u001b[1m0s\u001b[0m 17ms/step - accuracy: 0.5363 - loss: 1.1987 - val_accuracy: 0.5127 - val_loss: 1.1636\n",
      "Epoch 10/100\n",
      "\u001b[1m14/18\u001b[0m \u001b[32m━━━━━━━━━━━━━━━\u001b[0m\u001b[37m━━━━━\u001b[0m \u001b[1m0s\u001b[0m 14ms/step - accuracy: 0.5221 - loss: 1.1896\n",
      "Epoch 10: val_accuracy improved from 0.51273 to 0.54545, saving model to Models/audio_best_model.keras\n",
      "\u001b[1m18/18\u001b[0m \u001b[32m━━━━━━━━━━━━━━━━━━━━\u001b[0m\u001b[37m\u001b[0m \u001b[1m0s\u001b[0m 18ms/step - accuracy: 0.5199 - loss: 1.1857 - val_accuracy: 0.5455 - val_loss: 1.1168\n",
      "Epoch 11/100\n",
      "\u001b[1m17/18\u001b[0m \u001b[32m━━━━━━━━━━━━━━━━━━\u001b[0m\u001b[37m━━\u001b[0m \u001b[1m0s\u001b[0m 14ms/step - accuracy: 0.5411 - loss: 1.1571\n",
      "Epoch 11: val_accuracy did not improve from 0.54545\n",
      "\u001b[1m18/18\u001b[0m \u001b[32m━━━━━━━━━━━━━━━━━━━━\u001b[0m\u001b[37m\u001b[0m \u001b[1m0s\u001b[0m 17ms/step - accuracy: 0.5405 - loss: 1.1575 - val_accuracy: 0.5418 - val_loss: 1.0901\n",
      "Epoch 12/100\n",
      "\u001b[1m15/18\u001b[0m \u001b[32m━━━━━━━━━━━━━━━━\u001b[0m\u001b[37m━━━━\u001b[0m \u001b[1m0s\u001b[0m 17ms/step - accuracy: 0.5467 - loss: 1.1372\n",
      "Epoch 12: val_accuracy improved from 0.54545 to 0.56364, saving model to Models/audio_best_model.keras\n",
      "\u001b[1m18/18\u001b[0m \u001b[32m━━━━━━━━━━━━━━━━━━━━\u001b[0m\u001b[37m\u001b[0m \u001b[1m0s\u001b[0m 19ms/step - accuracy: 0.5462 - loss: 1.1365 - val_accuracy: 0.5636 - val_loss: 1.0442\n",
      "Epoch 13/100\n",
      "\u001b[1m14/18\u001b[0m \u001b[32m━━━━━━━━━━━━━━━\u001b[0m\u001b[37m━━━━━\u001b[0m \u001b[1m0s\u001b[0m 14ms/step - accuracy: 0.5313 - loss: 1.1093\n",
      "Epoch 13: val_accuracy improved from 0.56364 to 0.58545, saving model to Models/audio_best_model.keras\n",
      "\u001b[1m18/18\u001b[0m \u001b[32m━━━━━━━━━━━━━━━━━━━━\u001b[0m\u001b[37m\u001b[0m \u001b[1m0s\u001b[0m 18ms/step - accuracy: 0.5321 - loss: 1.1125 - val_accuracy: 0.5855 - val_loss: 1.0306\n",
      "Epoch 14/100\n",
      "\u001b[1m17/18\u001b[0m \u001b[32m━━━━━━━━━━━━━━━━━━\u001b[0m\u001b[37m━━\u001b[0m \u001b[1m0s\u001b[0m 14ms/step - accuracy: 0.5464 - loss: 1.0922\n",
      "Epoch 14: val_accuracy did not improve from 0.58545\n",
      "\u001b[1m18/18\u001b[0m \u001b[32m━━━━━━━━━━━━━━━━━━━━\u001b[0m\u001b[37m\u001b[0m \u001b[1m0s\u001b[0m 17ms/step - accuracy: 0.5471 - loss: 1.0922 - val_accuracy: 0.5055 - val_loss: 1.1860\n",
      "Epoch 15/100\n",
      "\u001b[1m17/18\u001b[0m \u001b[32m━━━━━━━━━━━━━━━━━━\u001b[0m\u001b[37m━━\u001b[0m \u001b[1m0s\u001b[0m 14ms/step - accuracy: 0.5789 - loss: 1.0922\n",
      "Epoch 15: val_accuracy did not improve from 0.58545\n",
      "\u001b[1m18/18\u001b[0m \u001b[32m━━━━━━━━━━━━━━━━━━━━\u001b[0m\u001b[37m\u001b[0m \u001b[1m0s\u001b[0m 17ms/step - accuracy: 0.5783 - loss: 1.0933 - val_accuracy: 0.5418 - val_loss: 1.0522\n",
      "Epoch 16/100\n",
      "\u001b[1m13/18\u001b[0m \u001b[32m━━━━━━━━━━━━━━\u001b[0m\u001b[37m━━━━━━\u001b[0m \u001b[1m0s\u001b[0m 15ms/step - accuracy: 0.5833 - loss: 1.0851\n",
      "Epoch 16: val_accuracy improved from 0.58545 to 0.58909, saving model to Models/audio_best_model.keras\n",
      "\u001b[1m18/18\u001b[0m \u001b[32m━━━━━━━━━━━━━━━━━━━━\u001b[0m\u001b[37m\u001b[0m \u001b[1m0s\u001b[0m 17ms/step - accuracy: 0.5875 - loss: 1.0769 - val_accuracy: 0.5891 - val_loss: 0.9473\n",
      "Epoch 17/100\n",
      "\u001b[1m14/18\u001b[0m \u001b[32m━━━━━━━━━━━━━━━\u001b[0m\u001b[37m━━━━━\u001b[0m \u001b[1m0s\u001b[0m 14ms/step - accuracy: 0.5812 - loss: 1.0426\n",
      "Epoch 17: val_accuracy did not improve from 0.58909\n",
      "\u001b[1m18/18\u001b[0m \u001b[32m━━━━━━━━━━━━━━━━━━━━\u001b[0m\u001b[37m\u001b[0m \u001b[1m0s\u001b[0m 16ms/step - accuracy: 0.5846 - loss: 1.0378 - val_accuracy: 0.4473 - val_loss: 1.4164\n",
      "Epoch 18/100\n",
      "\u001b[1m14/18\u001b[0m \u001b[32m━━━━━━━━━━━━━━━\u001b[0m\u001b[37m━━━━━\u001b[0m \u001b[1m0s\u001b[0m 14ms/step - accuracy: 0.5218 - loss: 1.1773\n",
      "Epoch 18: val_accuracy did not improve from 0.58909\n",
      "\u001b[1m18/18\u001b[0m \u001b[32m━━━━━━━━━━━━━━━━━━━━\u001b[0m\u001b[37m\u001b[0m \u001b[1m0s\u001b[0m 17ms/step - accuracy: 0.5290 - loss: 1.1554 - val_accuracy: 0.5891 - val_loss: 0.9723\n",
      "Epoch 19/100\n",
      "\u001b[1m15/18\u001b[0m \u001b[32m━━━━━━━━━━━━━━━━\u001b[0m\u001b[37m━━━━\u001b[0m \u001b[1m0s\u001b[0m 14ms/step - accuracy: 0.6003 - loss: 0.9970\n",
      "Epoch 19: val_accuracy improved from 0.58909 to 0.59636, saving model to Models/audio_best_model.keras\n",
      "\u001b[1m18/18\u001b[0m \u001b[32m━━━━━━━━━━━━━━━━━━━━\u001b[0m\u001b[37m\u001b[0m \u001b[1m0s\u001b[0m 18ms/step - accuracy: 0.6010 - loss: 0.9963 - val_accuracy: 0.5964 - val_loss: 0.9395\n",
      "Epoch 20/100\n",
      "\u001b[1m16/18\u001b[0m \u001b[32m━━━━━━━━━━━━━━━━━\u001b[0m\u001b[37m━━━\u001b[0m \u001b[1m0s\u001b[0m 15ms/step - accuracy: 0.6293 - loss: 0.9388\n",
      "Epoch 20: val_accuracy improved from 0.59636 to 0.62182, saving model to Models/audio_best_model.keras\n",
      "\u001b[1m18/18\u001b[0m \u001b[32m━━━━━━━━━━━━━━━━━━━━\u001b[0m\u001b[37m\u001b[0m \u001b[1m0s\u001b[0m 19ms/step - accuracy: 0.6262 - loss: 0.9442 - val_accuracy: 0.6218 - val_loss: 0.9329\n",
      "Epoch 21/100\n",
      "\u001b[1m17/18\u001b[0m \u001b[32m━━━━━━━━━━━━━━━━━━\u001b[0m\u001b[37m━━\u001b[0m \u001b[1m0s\u001b[0m 14ms/step - accuracy: 0.6118 - loss: 0.9824\n",
      "Epoch 21: val_accuracy did not improve from 0.62182\n",
      "\u001b[1m18/18\u001b[0m \u001b[32m━━━━━━━━━━━━━━━━━━━━\u001b[0m\u001b[37m\u001b[0m \u001b[1m0s\u001b[0m 17ms/step - accuracy: 0.6127 - loss: 0.9811 - val_accuracy: 0.6182 - val_loss: 0.9206\n",
      "Epoch 22/100\n",
      "\u001b[1m17/18\u001b[0m \u001b[32m━━━━━━━━━━━━━━━━━━\u001b[0m\u001b[37m━━\u001b[0m \u001b[1m0s\u001b[0m 14ms/step - accuracy: 0.6042 - loss: 0.9710\n",
      "Epoch 22: val_accuracy improved from 0.62182 to 0.66909, saving model to Models/audio_best_model.keras\n",
      "\u001b[1m18/18\u001b[0m \u001b[32m━━━━━━━━━━━━━━━━━━━━\u001b[0m\u001b[37m\u001b[0m \u001b[1m0s\u001b[0m 19ms/step - accuracy: 0.6061 - loss: 0.9689 - val_accuracy: 0.6691 - val_loss: 0.8697\n",
      "Epoch 23/100\n",
      "\u001b[1m17/18\u001b[0m \u001b[32m━━━━━━━━━━━━━━━━━━\u001b[0m\u001b[37m━━\u001b[0m \u001b[1m0s\u001b[0m 14ms/step - accuracy: 0.6098 - loss: 0.9471\n",
      "Epoch 23: val_accuracy improved from 0.66909 to 0.67636, saving model to Models/audio_best_model.keras\n",
      "\u001b[1m18/18\u001b[0m \u001b[32m━━━━━━━━━━━━━━━━━━━━\u001b[0m\u001b[37m\u001b[0m \u001b[1m0s\u001b[0m 18ms/step - accuracy: 0.6122 - loss: 0.9430 - val_accuracy: 0.6764 - val_loss: 0.8200\n",
      "Epoch 24/100\n",
      "\u001b[1m17/18\u001b[0m \u001b[32m━━━━━━━━━━━━━━━━━━\u001b[0m\u001b[37m━━\u001b[0m \u001b[1m0s\u001b[0m 14ms/step - accuracy: 0.6609 - loss: 0.9074\n",
      "Epoch 24: val_accuracy did not improve from 0.67636\n",
      "\u001b[1m18/18\u001b[0m \u001b[32m━━━━━━━━━━━━━━━━━━━━\u001b[0m\u001b[37m\u001b[0m \u001b[1m0s\u001b[0m 17ms/step - accuracy: 0.6596 - loss: 0.9125 - val_accuracy: 0.5818 - val_loss: 0.9767\n",
      "Epoch 25/100\n",
      "\u001b[1m17/18\u001b[0m \u001b[32m━━━━━━━━━━━━━━━━━━\u001b[0m\u001b[37m━━\u001b[0m \u001b[1m0s\u001b[0m 14ms/step - accuracy: 0.6584 - loss: 0.8815\n",
      "Epoch 25: val_accuracy did not improve from 0.67636\n",
      "\u001b[1m18/18\u001b[0m \u001b[32m━━━━━━━━━━━━━━━━━━━━\u001b[0m\u001b[37m\u001b[0m \u001b[1m0s\u001b[0m 17ms/step - accuracy: 0.6588 - loss: 0.8821 - val_accuracy: 0.6545 - val_loss: 0.8646\n",
      "Epoch 26/100\n",
      "\u001b[1m17/18\u001b[0m \u001b[32m━━━━━━━━━━━━━━━━━━\u001b[0m\u001b[37m━━\u001b[0m \u001b[1m0s\u001b[0m 14ms/step - accuracy: 0.6927 - loss: 0.8060\n",
      "Epoch 26: val_accuracy did not improve from 0.67636\n",
      "\u001b[1m18/18\u001b[0m \u001b[32m━━━━━━━━━━━━━━━━━━━━\u001b[0m\u001b[37m\u001b[0m \u001b[1m0s\u001b[0m 17ms/step - accuracy: 0.6932 - loss: 0.8059 - val_accuracy: 0.6691 - val_loss: 0.8120\n",
      "Epoch 27/100\n",
      "\u001b[1m18/18\u001b[0m \u001b[32m━━━━━━━━━━━━━━━━━━━━\u001b[0m\u001b[37m\u001b[0m \u001b[1m0s\u001b[0m 17ms/step - accuracy: 0.6822 - loss: 0.8188\n",
      "Epoch 27: val_accuracy did not improve from 0.67636\n",
      "\u001b[1m18/18\u001b[0m \u001b[32m━━━━━━━━━━━━━━━━━━━━\u001b[0m\u001b[37m\u001b[0m \u001b[1m0s\u001b[0m 21ms/step - accuracy: 0.6826 - loss: 0.8179 - val_accuracy: 0.6364 - val_loss: 0.9033\n",
      "Epoch 28/100\n",
      "\u001b[1m17/18\u001b[0m \u001b[32m━━━━━━━━━━━━━━━━━━\u001b[0m\u001b[37m━━\u001b[0m \u001b[1m0s\u001b[0m 14ms/step - accuracy: 0.6519 - loss: 0.8953\n",
      "Epoch 28: val_accuracy did not improve from 0.67636\n",
      "\u001b[1m18/18\u001b[0m \u001b[32m━━━━━━━━━━━━━━━━━━━━\u001b[0m\u001b[37m\u001b[0m \u001b[1m0s\u001b[0m 17ms/step - accuracy: 0.6543 - loss: 0.8916 - val_accuracy: 0.6327 - val_loss: 0.8382\n",
      "Epoch 29/100\n",
      "\u001b[1m17/18\u001b[0m \u001b[32m━━━━━━━━━━━━━━━━━━\u001b[0m\u001b[37m━━\u001b[0m \u001b[1m0s\u001b[0m 14ms/step - accuracy: 0.7115 - loss: 0.7762\n",
      "Epoch 29: val_accuracy improved from 0.67636 to 0.72364, saving model to Models/audio_best_model.keras\n",
      "\u001b[1m18/18\u001b[0m \u001b[32m━━━━━━━━━━━━━━━━━━━━\u001b[0m\u001b[37m\u001b[0m \u001b[1m0s\u001b[0m 18ms/step - accuracy: 0.7132 - loss: 0.7736 - val_accuracy: 0.7236 - val_loss: 0.7629\n",
      "Epoch 30/100\n",
      "\u001b[1m17/18\u001b[0m \u001b[32m━━━━━━━━━━━━━━━━━━\u001b[0m\u001b[37m━━\u001b[0m \u001b[1m0s\u001b[0m 14ms/step - accuracy: 0.7280 - loss: 0.7736\n",
      "Epoch 30: val_accuracy did not improve from 0.72364\n",
      "\u001b[1m18/18\u001b[0m \u001b[32m━━━━━━━━━━━━━━━━━━━━\u001b[0m\u001b[37m\u001b[0m \u001b[1m0s\u001b[0m 16ms/step - accuracy: 0.7257 - loss: 0.7786 - val_accuracy: 0.6800 - val_loss: 0.7700\n",
      "Epoch 31/100\n",
      "\u001b[1m17/18\u001b[0m \u001b[32m━━━━━━━━━━━━━━━━━━\u001b[0m\u001b[37m━━\u001b[0m \u001b[1m0s\u001b[0m 14ms/step - accuracy: 0.7520 - loss: 0.7536\n",
      "Epoch 31: val_accuracy did not improve from 0.72364\n",
      "\u001b[1m18/18\u001b[0m \u001b[32m━━━━━━━━━━━━━━━━━━━━\u001b[0m\u001b[37m\u001b[0m \u001b[1m0s\u001b[0m 16ms/step - accuracy: 0.7503 - loss: 0.7534 - val_accuracy: 0.6655 - val_loss: 0.7918\n",
      "Epoch 32/100\n",
      "\u001b[1m15/18\u001b[0m \u001b[32m━━━━━━━━━━━━━━━━\u001b[0m\u001b[37m━━━━\u001b[0m \u001b[1m0s\u001b[0m 16ms/step - accuracy: 0.7196 - loss: 0.7412\n",
      "Epoch 32: val_accuracy did not improve from 0.72364\n",
      "\u001b[1m18/18\u001b[0m \u001b[32m━━━━━━━━━━━━━━━━━━━━\u001b[0m\u001b[37m\u001b[0m \u001b[1m0s\u001b[0m 19ms/step - accuracy: 0.7194 - loss: 0.7390 - val_accuracy: 0.6691 - val_loss: 0.8157\n",
      "Epoch 33/100\n",
      "\u001b[1m17/18\u001b[0m \u001b[32m━━━━━━━━━━━━━━━━━━\u001b[0m\u001b[37m━━\u001b[0m \u001b[1m0s\u001b[0m 14ms/step - accuracy: 0.7520 - loss: 0.6924\n",
      "Epoch 33: val_accuracy did not improve from 0.72364\n",
      "\u001b[1m18/18\u001b[0m \u001b[32m━━━━━━━━━━━━━━━━━━━━\u001b[0m\u001b[37m\u001b[0m \u001b[1m0s\u001b[0m 17ms/step - accuracy: 0.7512 - loss: 0.6928 - val_accuracy: 0.6982 - val_loss: 0.7534\n",
      "Epoch 34/100\n",
      "\u001b[1m16/18\u001b[0m \u001b[32m━━━━━━━━━━━━━━━━━\u001b[0m\u001b[37m━━━\u001b[0m \u001b[1m0s\u001b[0m 15ms/step - accuracy: 0.7331 - loss: 0.6843\n",
      "Epoch 34: val_accuracy did not improve from 0.72364\n",
      "\u001b[1m18/18\u001b[0m \u001b[32m━━━━━━━━━━━━━━━━━━━━\u001b[0m\u001b[37m\u001b[0m \u001b[1m0s\u001b[0m 18ms/step - accuracy: 0.7300 - loss: 0.6905 - val_accuracy: 0.6000 - val_loss: 0.9916\n",
      "Epoch 35/100\n",
      "\u001b[1m17/18\u001b[0m \u001b[32m━━━━━━━━━━━━━━━━━━\u001b[0m\u001b[37m━━\u001b[0m \u001b[1m0s\u001b[0m 14ms/step - accuracy: 0.7134 - loss: 0.7631\n",
      "Epoch 35: val_accuracy did not improve from 0.72364\n",
      "\u001b[1m18/18\u001b[0m \u001b[32m━━━━━━━━━━━━━━━━━━━━\u001b[0m\u001b[37m\u001b[0m \u001b[1m0s\u001b[0m 17ms/step - accuracy: 0.7145 - loss: 0.7595 - val_accuracy: 0.6836 - val_loss: 0.8370\n",
      "Epoch 36/100\n",
      "\u001b[1m16/18\u001b[0m \u001b[32m━━━━━━━━━━━━━━━━━\u001b[0m\u001b[37m━━━\u001b[0m \u001b[1m0s\u001b[0m 15ms/step - accuracy: 0.7414 - loss: 0.6825\n",
      "Epoch 36: val_accuracy improved from 0.72364 to 0.72727, saving model to Models/audio_best_model.keras\n",
      "\u001b[1m18/18\u001b[0m \u001b[32m━━━━━━━━━━━━━━━━━━━━\u001b[0m\u001b[37m\u001b[0m \u001b[1m0s\u001b[0m 18ms/step - accuracy: 0.7439 - loss: 0.6788 - val_accuracy: 0.7273 - val_loss: 0.7588\n",
      "Epoch 37/100\n",
      "\u001b[1m16/18\u001b[0m \u001b[32m━━━━━━━━━━━━━━━━━\u001b[0m\u001b[37m━━━\u001b[0m \u001b[1m0s\u001b[0m 15ms/step - accuracy: 0.7784 - loss: 0.6054\n",
      "Epoch 37: val_accuracy did not improve from 0.72727\n",
      "\u001b[1m18/18\u001b[0m \u001b[32m━━━━━━━━━━━━━━━━━━━━\u001b[0m\u001b[37m\u001b[0m \u001b[1m0s\u001b[0m 19ms/step - accuracy: 0.7774 - loss: 0.6085 - val_accuracy: 0.7127 - val_loss: 0.7652\n",
      "Epoch 38/100\n",
      "\u001b[1m17/18\u001b[0m \u001b[32m━━━━━━━━━━━━━━━━━━\u001b[0m\u001b[37m━━\u001b[0m \u001b[1m0s\u001b[0m 15ms/step - accuracy: 0.8081 - loss: 0.5899\n",
      "Epoch 38: val_accuracy did not improve from 0.72727\n",
      "\u001b[1m18/18\u001b[0m \u001b[32m━━━━━━━━━━━━━━━━━━━━\u001b[0m\u001b[37m\u001b[0m \u001b[1m0s\u001b[0m 18ms/step - accuracy: 0.8067 - loss: 0.5895 - val_accuracy: 0.7236 - val_loss: 0.6969\n",
      "Epoch 39/100\n",
      "\u001b[1m15/18\u001b[0m \u001b[32m━━━━━━━━━━━━━━━━\u001b[0m\u001b[37m━━━━\u001b[0m \u001b[1m0s\u001b[0m 17ms/step - accuracy: 0.7675 - loss: 0.6286\n",
      "Epoch 39: val_accuracy did not improve from 0.72727\n",
      "\u001b[1m18/18\u001b[0m \u001b[32m━━━━━━━━━━━━━━━━━━━━\u001b[0m\u001b[37m\u001b[0m \u001b[1m0s\u001b[0m 19ms/step - accuracy: 0.7700 - loss: 0.6262 - val_accuracy: 0.6255 - val_loss: 0.9520\n",
      "Epoch 40/100\n",
      "\u001b[1m17/18\u001b[0m \u001b[32m━━━━━━━━━━━━━━━━━━\u001b[0m\u001b[37m━━\u001b[0m \u001b[1m0s\u001b[0m 14ms/step - accuracy: 0.7844 - loss: 0.6611\n",
      "Epoch 40: val_accuracy did not improve from 0.72727\n",
      "\u001b[1m18/18\u001b[0m \u001b[32m━━━━━━━━━━━━━━━━━━━━\u001b[0m\u001b[37m\u001b[0m \u001b[1m0s\u001b[0m 17ms/step - accuracy: 0.7844 - loss: 0.6583 - val_accuracy: 0.6473 - val_loss: 0.9282\n",
      "Epoch 41/100\n",
      "\u001b[1m17/18\u001b[0m \u001b[32m━━━━━━━━━━━━━━━━━━\u001b[0m\u001b[37m━━\u001b[0m \u001b[1m0s\u001b[0m 15ms/step - accuracy: 0.7550 - loss: 0.6586\n",
      "Epoch 41: val_accuracy did not improve from 0.72727\n",
      "\u001b[1m18/18\u001b[0m \u001b[32m━━━━━━━━━━━━━━━━━━━━\u001b[0m\u001b[37m\u001b[0m \u001b[1m0s\u001b[0m 18ms/step - accuracy: 0.7566 - loss: 0.6564 - val_accuracy: 0.7273 - val_loss: 0.7379\n",
      "Epoch 42/100\n",
      "\u001b[1m16/18\u001b[0m \u001b[32m━━━━━━━━━━━━━━━━━\u001b[0m\u001b[37m━━━\u001b[0m \u001b[1m0s\u001b[0m 15ms/step - accuracy: 0.7904 - loss: 0.5636\n",
      "Epoch 42: val_accuracy did not improve from 0.72727\n",
      "\u001b[1m18/18\u001b[0m \u001b[32m━━━━━━━━━━━━━━━━━━━━\u001b[0m\u001b[37m\u001b[0m \u001b[1m0s\u001b[0m 19ms/step - accuracy: 0.7903 - loss: 0.5673 - val_accuracy: 0.6873 - val_loss: 0.7648\n",
      "Epoch 43/100\n",
      "\u001b[1m17/18\u001b[0m \u001b[32m━━━━━━━━━━━━━━━━━━\u001b[0m\u001b[37m━━\u001b[0m \u001b[1m0s\u001b[0m 14ms/step - accuracy: 0.7900 - loss: 0.5804\n",
      "Epoch 43: val_accuracy did not improve from 0.72727\n",
      "\u001b[1m18/18\u001b[0m \u001b[32m━━━━━━━━━━━━━━━━━━━━\u001b[0m\u001b[37m\u001b[0m \u001b[1m0s\u001b[0m 17ms/step - accuracy: 0.7889 - loss: 0.5823 - val_accuracy: 0.7018 - val_loss: 0.7884\n",
      "Epoch 44/100\n",
      "\u001b[1m16/18\u001b[0m \u001b[32m━━━━━━━━━━━━━━━━━\u001b[0m\u001b[37m━━━\u001b[0m \u001b[1m0s\u001b[0m 14ms/step - accuracy: 0.8154 - loss: 0.5505\n",
      "Epoch 44: val_accuracy did not improve from 0.72727\n",
      "\u001b[1m18/18\u001b[0m \u001b[32m━━━━━━━━━━━━━━━━━━━━\u001b[0m\u001b[37m\u001b[0m \u001b[1m0s\u001b[0m 17ms/step - accuracy: 0.8156 - loss: 0.5538 - val_accuracy: 0.7127 - val_loss: 0.7409\n",
      "Epoch 45/100\n",
      "\u001b[1m17/18\u001b[0m \u001b[32m━━━━━━━━━━━━━━━━━━\u001b[0m\u001b[37m━━\u001b[0m \u001b[1m0s\u001b[0m 14ms/step - accuracy: 0.8243 - loss: 0.5060\n",
      "Epoch 45: val_accuracy did not improve from 0.72727\n",
      "\u001b[1m18/18\u001b[0m \u001b[32m━━━━━━━━━━━━━━━━━━━━\u001b[0m\u001b[37m\u001b[0m \u001b[1m0s\u001b[0m 16ms/step - accuracy: 0.8232 - loss: 0.5115 - val_accuracy: 0.7127 - val_loss: 0.8141\n",
      "Epoch 46/100\n",
      "\u001b[1m17/18\u001b[0m \u001b[32m━━━━━━━━━━━━━━━━━━\u001b[0m\u001b[37m━━\u001b[0m \u001b[1m0s\u001b[0m 15ms/step - accuracy: 0.7402 - loss: 0.6917\n",
      "Epoch 46: val_accuracy did not improve from 0.72727\n",
      "\u001b[1m18/18\u001b[0m \u001b[32m━━━━━━━━━━━━━━━━━━━━\u001b[0m\u001b[37m\u001b[0m \u001b[1m0s\u001b[0m 18ms/step - accuracy: 0.7430 - loss: 0.6848 - val_accuracy: 0.7091 - val_loss: 0.7471\n",
      "Epoch 47/100\n",
      "\u001b[1m16/18\u001b[0m \u001b[32m━━━━━━━━━━━━━━━━━\u001b[0m\u001b[37m━━━\u001b[0m \u001b[1m0s\u001b[0m 16ms/step - accuracy: 0.8382 - loss: 0.5225\n",
      "Epoch 47: val_accuracy did not improve from 0.72727\n",
      "\u001b[1m18/18\u001b[0m \u001b[32m━━━━━━━━━━━━━━━━━━━━\u001b[0m\u001b[37m\u001b[0m \u001b[1m0s\u001b[0m 19ms/step - accuracy: 0.8373 - loss: 0.5211 - val_accuracy: 0.6800 - val_loss: 0.8080\n",
      "Epoch 48/100\n",
      "\u001b[1m14/18\u001b[0m \u001b[32m━━━━━━━━━━━━━━━\u001b[0m\u001b[37m━━━━━\u001b[0m \u001b[1m0s\u001b[0m 14ms/step - accuracy: 0.8404 - loss: 0.4890\n",
      "Epoch 48: val_accuracy improved from 0.72727 to 0.74545, saving model to Models/audio_best_model.keras\n",
      "\u001b[1m18/18\u001b[0m \u001b[32m━━━━━━━━━━━━━━━━━━━━\u001b[0m\u001b[37m\u001b[0m \u001b[1m0s\u001b[0m 18ms/step - accuracy: 0.8388 - loss: 0.4873 - val_accuracy: 0.7455 - val_loss: 0.7470\n",
      "Epoch 49/100\n",
      "\u001b[1m17/18\u001b[0m \u001b[32m━━━━━━━━━━━━━━━━━━\u001b[0m\u001b[37m━━\u001b[0m \u001b[1m0s\u001b[0m 15ms/step - accuracy: 0.8579 - loss: 0.4552\n",
      "Epoch 49: val_accuracy did not improve from 0.74545\n",
      "\u001b[1m18/18\u001b[0m \u001b[32m━━━━━━━━━━━━━━━━━━━━\u001b[0m\u001b[37m\u001b[0m \u001b[1m0s\u001b[0m 17ms/step - accuracy: 0.8570 - loss: 0.4573 - val_accuracy: 0.6145 - val_loss: 1.0258\n",
      "Epoch 50/100\n",
      "\u001b[1m17/18\u001b[0m \u001b[32m━━━━━━━━━━━━━━━━━━\u001b[0m\u001b[37m━━\u001b[0m \u001b[1m0s\u001b[0m 15ms/step - accuracy: 0.7575 - loss: 0.6362\n",
      "Epoch 50: val_accuracy did not improve from 0.74545\n",
      "\u001b[1m18/18\u001b[0m \u001b[32m━━━━━━━━━━━━━━━━━━━━\u001b[0m\u001b[37m\u001b[0m \u001b[1m0s\u001b[0m 18ms/step - accuracy: 0.7593 - loss: 0.6318 - val_accuracy: 0.7200 - val_loss: 0.8034\n",
      "Epoch 51/100\n",
      "\u001b[1m17/18\u001b[0m \u001b[32m━━━━━━━━━━━━━━━━━━\u001b[0m\u001b[37m━━\u001b[0m \u001b[1m0s\u001b[0m 18ms/step - accuracy: 0.8439 - loss: 0.4676\n",
      "Epoch 51: val_accuracy did not improve from 0.74545\n",
      "\u001b[1m18/18\u001b[0m \u001b[32m━━━━━━━━━━━━━━━━━━━━\u001b[0m\u001b[37m\u001b[0m \u001b[1m0s\u001b[0m 21ms/step - accuracy: 0.8440 - loss: 0.4675 - val_accuracy: 0.7236 - val_loss: 0.7412\n",
      "Epoch 52/100\n",
      "\u001b[1m14/18\u001b[0m \u001b[32m━━━━━━━━━━━━━━━\u001b[0m\u001b[37m━━━━━\u001b[0m \u001b[1m0s\u001b[0m 14ms/step - accuracy: 0.8503 - loss: 0.4428\n",
      "Epoch 52: val_accuracy did not improve from 0.74545\n",
      "\u001b[1m18/18\u001b[0m \u001b[32m━━━━━━━━━━━━━━━━━━━━\u001b[0m\u001b[37m\u001b[0m \u001b[1m0s\u001b[0m 17ms/step - accuracy: 0.8493 - loss: 0.4430 - val_accuracy: 0.6473 - val_loss: 0.9549\n",
      "Epoch 53/100\n",
      "\u001b[1m16/18\u001b[0m \u001b[32m━━━━━━━━━━━━━━━━━\u001b[0m\u001b[37m━━━\u001b[0m \u001b[1m0s\u001b[0m 14ms/step - accuracy: 0.8287 - loss: 0.5106\n",
      "Epoch 53: val_accuracy did not improve from 0.74545\n",
      "\u001b[1m18/18\u001b[0m \u001b[32m━━━━━━━━━━━━━━━━━━━━\u001b[0m\u001b[37m\u001b[0m \u001b[1m0s\u001b[0m 17ms/step - accuracy: 0.8289 - loss: 0.5068 - val_accuracy: 0.7382 - val_loss: 0.7562\n",
      "Epoch 54/100\n",
      "\u001b[1m17/18\u001b[0m \u001b[32m━━━━━━━━━━━━━━━━━━\u001b[0m\u001b[37m━━\u001b[0m \u001b[1m0s\u001b[0m 15ms/step - accuracy: 0.8622 - loss: 0.3935\n",
      "Epoch 54: val_accuracy did not improve from 0.74545\n",
      "\u001b[1m18/18\u001b[0m \u001b[32m━━━━━━━━━━━━━━━━━━━━\u001b[0m\u001b[37m\u001b[0m \u001b[1m0s\u001b[0m 17ms/step - accuracy: 0.8607 - loss: 0.3964 - val_accuracy: 0.7309 - val_loss: 0.8061\n",
      "Epoch 55/100\n",
      "\u001b[1m17/18\u001b[0m \u001b[32m━━━━━━━━━━━━━━━━━━\u001b[0m\u001b[37m━━\u001b[0m \u001b[1m0s\u001b[0m 16ms/step - accuracy: 0.8620 - loss: 0.4419\n",
      "Epoch 55: val_accuracy did not improve from 0.74545\n",
      "\u001b[1m18/18\u001b[0m \u001b[32m━━━━━━━━━━━━━━━━━━━━\u001b[0m\u001b[37m\u001b[0m \u001b[1m0s\u001b[0m 19ms/step - accuracy: 0.8611 - loss: 0.4410 - val_accuracy: 0.7309 - val_loss: 0.7739\n",
      "Epoch 56/100\n",
      "\u001b[1m17/18\u001b[0m \u001b[32m━━━━━━━━━━━━━━━━━━\u001b[0m\u001b[37m━━\u001b[0m \u001b[1m0s\u001b[0m 14ms/step - accuracy: 0.8791 - loss: 0.3910\n",
      "Epoch 56: val_accuracy did not improve from 0.74545\n",
      "\u001b[1m18/18\u001b[0m \u001b[32m━━━━━━━━━━━━━━━━━━━━\u001b[0m\u001b[37m\u001b[0m \u001b[1m0s\u001b[0m 16ms/step - accuracy: 0.8783 - loss: 0.3929 - val_accuracy: 0.6255 - val_loss: 1.1284\n",
      "Epoch 57/100\n",
      "\u001b[1m17/18\u001b[0m \u001b[32m━━━━━━━━━━━━━━━━━━\u001b[0m\u001b[37m━━\u001b[0m \u001b[1m0s\u001b[0m 14ms/step - accuracy: 0.8190 - loss: 0.5558\n",
      "Epoch 57: val_accuracy did not improve from 0.74545\n",
      "\u001b[1m18/18\u001b[0m \u001b[32m━━━━━━━━━━━━━━━━━━━━\u001b[0m\u001b[37m\u001b[0m \u001b[1m0s\u001b[0m 17ms/step - accuracy: 0.8189 - loss: 0.5519 - val_accuracy: 0.6909 - val_loss: 0.8911\n",
      "Epoch 58/100\n",
      "\u001b[1m17/18\u001b[0m \u001b[32m━━━━━━━━━━━━━━━━━━\u001b[0m\u001b[37m━━\u001b[0m \u001b[1m0s\u001b[0m 14ms/step - accuracy: 0.8381 - loss: 0.4638\n",
      "Epoch 58: val_accuracy did not improve from 0.74545\n",
      "\u001b[1m18/18\u001b[0m \u001b[32m━━━━━━━━━━━━━━━━━━━━\u001b[0m\u001b[37m\u001b[0m \u001b[1m0s\u001b[0m 17ms/step - accuracy: 0.8397 - loss: 0.4609 - val_accuracy: 0.7164 - val_loss: 0.8162\n",
      "Epoch 59/100\n",
      "\u001b[1m17/18\u001b[0m \u001b[32m━━━━━━━━━━━━━━━━━━\u001b[0m\u001b[37m━━\u001b[0m \u001b[1m0s\u001b[0m 14ms/step - accuracy: 0.8957 - loss: 0.3620\n",
      "Epoch 59: val_accuracy did not improve from 0.74545\n",
      "\u001b[1m18/18\u001b[0m \u001b[32m━━━━━━━━━━━━━━━━━━━━\u001b[0m\u001b[37m\u001b[0m \u001b[1m0s\u001b[0m 17ms/step - accuracy: 0.8957 - loss: 0.3629 - val_accuracy: 0.7236 - val_loss: 0.8537\n",
      "Epoch 60/100\n",
      "\u001b[1m17/18\u001b[0m \u001b[32m━━━━━━━━━━━━━━━━━━\u001b[0m\u001b[37m━━\u001b[0m \u001b[1m0s\u001b[0m 15ms/step - accuracy: 0.8942 - loss: 0.3578\n",
      "Epoch 60: val_accuracy improved from 0.74545 to 0.74909, saving model to Models/audio_best_model.keras\n",
      "\u001b[1m18/18\u001b[0m \u001b[32m━━━━━━━━━━━━━━━━━━━━\u001b[0m\u001b[37m\u001b[0m \u001b[1m0s\u001b[0m 19ms/step - accuracy: 0.8944 - loss: 0.3584 - val_accuracy: 0.7491 - val_loss: 0.7539\n",
      "Epoch 61/100\n",
      "\u001b[1m17/18\u001b[0m \u001b[32m━━━━━━━━━━━━━━━━━━\u001b[0m\u001b[37m━━\u001b[0m \u001b[1m0s\u001b[0m 15ms/step - accuracy: 0.8918 - loss: 0.3547\n",
      "Epoch 61: val_accuracy did not improve from 0.74909\n",
      "\u001b[1m18/18\u001b[0m \u001b[32m━━━━━━━━━━━━━━━━━━━━\u001b[0m\u001b[37m\u001b[0m \u001b[1m0s\u001b[0m 17ms/step - accuracy: 0.8922 - loss: 0.3542 - val_accuracy: 0.7309 - val_loss: 0.8037\n",
      "Epoch 62/100\n",
      "\u001b[1m17/18\u001b[0m \u001b[32m━━━━━━━━━━━━━━━━━━\u001b[0m\u001b[37m━━\u001b[0m \u001b[1m0s\u001b[0m 14ms/step - accuracy: 0.8975 - loss: 0.3332\n",
      "Epoch 62: val_accuracy did not improve from 0.74909\n",
      "\u001b[1m18/18\u001b[0m \u001b[32m━━━━━━━━━━━━━━━━━━━━\u001b[0m\u001b[37m\u001b[0m \u001b[1m0s\u001b[0m 17ms/step - accuracy: 0.8975 - loss: 0.3374 - val_accuracy: 0.7273 - val_loss: 0.8743\n",
      "Epoch 63/100\n",
      "\u001b[1m17/18\u001b[0m \u001b[32m━━━━━━━━━━━━━━━━━━\u001b[0m\u001b[37m━━\u001b[0m \u001b[1m0s\u001b[0m 14ms/step - accuracy: 0.9014 - loss: 0.3281\n",
      "Epoch 63: val_accuracy did not improve from 0.74909\n",
      "\u001b[1m18/18\u001b[0m \u001b[32m━━━━━━━━━━━━━━━━━━━━\u001b[0m\u001b[37m\u001b[0m \u001b[1m0s\u001b[0m 17ms/step - accuracy: 0.9015 - loss: 0.3282 - val_accuracy: 0.7455 - val_loss: 0.7738\n",
      "Epoch 64/100\n",
      "\u001b[1m16/18\u001b[0m \u001b[32m━━━━━━━━━━━━━━━━━\u001b[0m\u001b[37m━━━\u001b[0m \u001b[1m0s\u001b[0m 17ms/step - accuracy: 0.9135 - loss: 0.3341\n",
      "Epoch 64: val_accuracy did not improve from 0.74909\n",
      "\u001b[1m18/18\u001b[0m \u001b[32m━━━━━━━━━━━━━━━━━━━━\u001b[0m\u001b[37m\u001b[0m \u001b[1m0s\u001b[0m 19ms/step - accuracy: 0.9150 - loss: 0.3297 - val_accuracy: 0.7164 - val_loss: 0.8431\n",
      "Epoch 65/100\n",
      "\u001b[1m17/18\u001b[0m \u001b[32m━━━━━━━━━━━━━━━━━━\u001b[0m\u001b[37m━━\u001b[0m \u001b[1m0s\u001b[0m 14ms/step - accuracy: 0.9153 - loss: 0.3214\n",
      "Epoch 65: val_accuracy did not improve from 0.74909\n",
      "\u001b[1m18/18\u001b[0m \u001b[32m━━━━━━━━━━━━━━━━━━━━\u001b[0m\u001b[37m\u001b[0m \u001b[1m0s\u001b[0m 16ms/step - accuracy: 0.9130 - loss: 0.3258 - val_accuracy: 0.6909 - val_loss: 0.9129\n",
      "Epoch 66/100\n",
      "\u001b[1m17/18\u001b[0m \u001b[32m━━━━━━━━━━━━━━━━━━\u001b[0m\u001b[37m━━\u001b[0m \u001b[1m0s\u001b[0m 14ms/step - accuracy: 0.8554 - loss: 0.4466\n",
      "Epoch 66: val_accuracy did not improve from 0.74909\n",
      "\u001b[1m18/18\u001b[0m \u001b[32m━━━━━━━━━━━━━━━━━━━━\u001b[0m\u001b[37m\u001b[0m \u001b[1m0s\u001b[0m 17ms/step - accuracy: 0.8567 - loss: 0.4441 - val_accuracy: 0.7055 - val_loss: 0.8543\n",
      "Epoch 67/100\n",
      "\u001b[1m17/18\u001b[0m \u001b[32m━━━━━━━━━━━━━━━━━━\u001b[0m\u001b[37m━━\u001b[0m \u001b[1m0s\u001b[0m 14ms/step - accuracy: 0.8774 - loss: 0.3835\n",
      "Epoch 67: val_accuracy did not improve from 0.74909\n",
      "\u001b[1m18/18\u001b[0m \u001b[32m━━━━━━━━━━━━━━━━━━━━\u001b[0m\u001b[37m\u001b[0m \u001b[1m0s\u001b[0m 17ms/step - accuracy: 0.8771 - loss: 0.3852 - val_accuracy: 0.7345 - val_loss: 0.8297\n",
      "Epoch 68/100\n",
      "\u001b[1m17/18\u001b[0m \u001b[32m━━━━━━━━━━━━━━━━━━\u001b[0m\u001b[37m━━\u001b[0m \u001b[1m0s\u001b[0m 14ms/step - accuracy: 0.8941 - loss: 0.3600\n",
      "Epoch 68: val_accuracy did not improve from 0.74909\n",
      "\u001b[1m18/18\u001b[0m \u001b[32m━━━━━━━━━━━━━━━━━━━━\u001b[0m\u001b[37m\u001b[0m \u001b[1m0s\u001b[0m 16ms/step - accuracy: 0.8937 - loss: 0.3602 - val_accuracy: 0.6582 - val_loss: 1.0808\n",
      "Epoch 69/100\n",
      "\u001b[1m17/18\u001b[0m \u001b[32m━━━━━━━━━━━━━━━━━━\u001b[0m\u001b[37m━━\u001b[0m \u001b[1m0s\u001b[0m 15ms/step - accuracy: 0.8713 - loss: 0.3835\n",
      "Epoch 69: val_accuracy did not improve from 0.74909\n",
      "\u001b[1m18/18\u001b[0m \u001b[32m━━━━━━━━━━━━━━━━━━━━\u001b[0m\u001b[37m\u001b[0m \u001b[1m0s\u001b[0m 17ms/step - accuracy: 0.8733 - loss: 0.3821 - val_accuracy: 0.7345 - val_loss: 0.7860\n",
      "Epoch 70/100\n",
      "\u001b[1m17/18\u001b[0m \u001b[32m━━━━━━━━━━━━━━━━━━\u001b[0m\u001b[37m━━\u001b[0m \u001b[1m0s\u001b[0m 14ms/step - accuracy: 0.9266 - loss: 0.3126\n",
      "Epoch 70: val_accuracy did not improve from 0.74909\n",
      "\u001b[1m18/18\u001b[0m \u001b[32m━━━━━━━━━━━━━━━━━━━━\u001b[0m\u001b[37m\u001b[0m \u001b[1m0s\u001b[0m 17ms/step - accuracy: 0.9268 - loss: 0.3104 - val_accuracy: 0.7455 - val_loss: 0.8621\n",
      "Epoch 71/100\n",
      "\u001b[1m17/18\u001b[0m \u001b[32m━━━━━━━━━━━━━━━━━━\u001b[0m\u001b[37m━━\u001b[0m \u001b[1m0s\u001b[0m 14ms/step - accuracy: 0.9399 - loss: 0.2761\n",
      "Epoch 71: val_accuracy improved from 0.74909 to 0.75273, saving model to Models/audio_best_model.keras\n",
      "\u001b[1m18/18\u001b[0m \u001b[32m━━━━━━━━━━━━━━━━━━━━\u001b[0m\u001b[37m\u001b[0m \u001b[1m1s\u001b[0m 29ms/step - accuracy: 0.9388 - loss: 0.2763 - val_accuracy: 0.7527 - val_loss: 0.8134\n",
      "Epoch 72/100\n",
      "\u001b[1m17/18\u001b[0m \u001b[32m━━━━━━━━━━━━━━━━━━\u001b[0m\u001b[37m━━\u001b[0m \u001b[1m0s\u001b[0m 14ms/step - accuracy: 0.9432 - loss: 0.2433\n",
      "Epoch 72: val_accuracy did not improve from 0.75273\n",
      "\u001b[1m18/18\u001b[0m \u001b[32m━━━━━━━━━━━━━━━━━━━━\u001b[0m\u001b[37m\u001b[0m \u001b[1m0s\u001b[0m 17ms/step - accuracy: 0.9419 - loss: 0.2459 - val_accuracy: 0.7236 - val_loss: 0.9673\n",
      "Epoch 73/100\n",
      "\u001b[1m17/18\u001b[0m \u001b[32m━━━━━━━━━━━━━━━━━━\u001b[0m\u001b[37m━━\u001b[0m \u001b[1m0s\u001b[0m 14ms/step - accuracy: 0.9151 - loss: 0.2970\n",
      "Epoch 73: val_accuracy did not improve from 0.75273\n",
      "\u001b[1m18/18\u001b[0m \u001b[32m━━━━━━━━━━━━━━━━━━━━\u001b[0m\u001b[37m\u001b[0m \u001b[1m0s\u001b[0m 17ms/step - accuracy: 0.9166 - loss: 0.2943 - val_accuracy: 0.7091 - val_loss: 0.9083\n",
      "Epoch 74/100\n",
      "\u001b[1m17/18\u001b[0m \u001b[32m━━━━━━━━━━━━━━━━━━\u001b[0m\u001b[37m━━\u001b[0m \u001b[1m0s\u001b[0m 14ms/step - accuracy: 0.9027 - loss: 0.2885\n",
      "Epoch 74: val_accuracy did not improve from 0.75273\n",
      "\u001b[1m18/18\u001b[0m \u001b[32m━━━━━━━━━━━━━━━━━━━━\u001b[0m\u001b[37m\u001b[0m \u001b[1m0s\u001b[0m 17ms/step - accuracy: 0.9043 - loss: 0.2889 - val_accuracy: 0.7091 - val_loss: 0.9905\n",
      "Epoch 75/100\n",
      "\u001b[1m15/18\u001b[0m \u001b[32m━━━━━━━━━━━━━━━━\u001b[0m\u001b[37m━━━━\u001b[0m \u001b[1m0s\u001b[0m 16ms/step - accuracy: 0.9097 - loss: 0.3052\n",
      "Epoch 75: val_accuracy did not improve from 0.75273\n",
      "\u001b[1m18/18\u001b[0m \u001b[32m━━━━━━━━━━━━━━━━━━━━\u001b[0m\u001b[37m\u001b[0m \u001b[1m0s\u001b[0m 18ms/step - accuracy: 0.9140 - loss: 0.2968 - val_accuracy: 0.7273 - val_loss: 0.8896\n",
      "Epoch 76/100\n",
      "\u001b[1m17/18\u001b[0m \u001b[32m━━━━━━━━━━━━━━━━━━\u001b[0m\u001b[37m━━\u001b[0m \u001b[1m0s\u001b[0m 14ms/step - accuracy: 0.9107 - loss: 0.2904\n",
      "Epoch 76: val_accuracy did not improve from 0.75273\n",
      "\u001b[1m18/18\u001b[0m \u001b[32m━━━━━━━━━━━━━━━━━━━━\u001b[0m\u001b[37m\u001b[0m \u001b[1m0s\u001b[0m 17ms/step - accuracy: 0.9136 - loss: 0.2852 - val_accuracy: 0.7418 - val_loss: 0.8611\n",
      "Epoch 77/100\n",
      "\u001b[1m17/18\u001b[0m \u001b[32m━━━━━━━━━━━━━━━━━━\u001b[0m\u001b[37m━━\u001b[0m \u001b[1m0s\u001b[0m 14ms/step - accuracy: 0.9599 - loss: 0.2172\n",
      "Epoch 77: val_accuracy did not improve from 0.75273\n",
      "\u001b[1m18/18\u001b[0m \u001b[32m━━━━━━━━━━━━━━━━━━━━\u001b[0m\u001b[37m\u001b[0m \u001b[1m0s\u001b[0m 17ms/step - accuracy: 0.9596 - loss: 0.2175 - val_accuracy: 0.7018 - val_loss: 1.0022\n",
      "Epoch 78/100\n",
      "\u001b[1m16/18\u001b[0m \u001b[32m━━━━━━━━━━━━━━━━━\u001b[0m\u001b[37m━━━\u001b[0m \u001b[1m0s\u001b[0m 16ms/step - accuracy: 0.9314 - loss: 0.2427\n",
      "Epoch 78: val_accuracy did not improve from 0.75273\n",
      "\u001b[1m18/18\u001b[0m \u001b[32m━━━━━━━━━━━━━━━━━━━━\u001b[0m\u001b[37m\u001b[0m \u001b[1m0s\u001b[0m 19ms/step - accuracy: 0.9325 - loss: 0.2431 - val_accuracy: 0.7273 - val_loss: 0.8850\n",
      "Epoch 79/100\n",
      "\u001b[1m17/18\u001b[0m \u001b[32m━━━━━━━━━━━━━━━━━━\u001b[0m\u001b[37m━━\u001b[0m \u001b[1m0s\u001b[0m 15ms/step - accuracy: 0.9457 - loss: 0.2256\n",
      "Epoch 79: val_accuracy did not improve from 0.75273\n",
      "\u001b[1m18/18\u001b[0m \u001b[32m━━━━━━━━━━━━━━━━━━━━\u001b[0m\u001b[37m\u001b[0m \u001b[1m0s\u001b[0m 18ms/step - accuracy: 0.9458 - loss: 0.2248 - val_accuracy: 0.6473 - val_loss: 1.1279\n",
      "Epoch 80/100\n",
      "\u001b[1m17/18\u001b[0m \u001b[32m━━━━━━━━━━━━━━━━━━\u001b[0m\u001b[37m━━\u001b[0m \u001b[1m0s\u001b[0m 14ms/step - accuracy: 0.9384 - loss: 0.2667\n",
      "Epoch 80: val_accuracy did not improve from 0.75273\n",
      "\u001b[1m18/18\u001b[0m \u001b[32m━━━━━━━━━━━━━━━━━━━━\u001b[0m\u001b[37m\u001b[0m \u001b[1m0s\u001b[0m 18ms/step - accuracy: 0.9377 - loss: 0.2690 - val_accuracy: 0.7273 - val_loss: 1.0193\n",
      "Epoch 81/100\n",
      "\u001b[1m15/18\u001b[0m \u001b[32m━━━━━━━━━━━━━━━━\u001b[0m\u001b[37m━━━━\u001b[0m \u001b[1m0s\u001b[0m 17ms/step - accuracy: 0.9175 - loss: 0.3106\n",
      "Epoch 81: val_accuracy did not improve from 0.75273\n",
      "\u001b[1m18/18\u001b[0m \u001b[32m━━━━━━━━━━━━━━━━━━━━\u001b[0m\u001b[37m\u001b[0m \u001b[1m0s\u001b[0m 19ms/step - accuracy: 0.9168 - loss: 0.3139 - val_accuracy: 0.6691 - val_loss: 1.0996\n",
      "Epoch 82/100\n",
      "\u001b[1m17/18\u001b[0m \u001b[32m━━━━━━━━━━━━━━━━━━\u001b[0m\u001b[37m━━\u001b[0m \u001b[1m0s\u001b[0m 14ms/step - accuracy: 0.8925 - loss: 0.3465\n",
      "Epoch 82: val_accuracy did not improve from 0.75273\n",
      "\u001b[1m18/18\u001b[0m \u001b[32m━━━━━━━━━━━━━━━━━━━━\u001b[0m\u001b[37m\u001b[0m \u001b[1m0s\u001b[0m 17ms/step - accuracy: 0.8926 - loss: 0.3471 - val_accuracy: 0.7127 - val_loss: 1.0025\n",
      "Epoch 83/100\n",
      "\u001b[1m17/18\u001b[0m \u001b[32m━━━━━━━━━━━━━━━━━━\u001b[0m\u001b[37m━━\u001b[0m \u001b[1m0s\u001b[0m 15ms/step - accuracy: 0.9020 - loss: 0.3808\n",
      "Epoch 83: val_accuracy did not improve from 0.75273\n",
      "\u001b[1m18/18\u001b[0m \u001b[32m━━━━━━━━━━━━━━━━━━━━\u001b[0m\u001b[37m\u001b[0m \u001b[1m0s\u001b[0m 18ms/step - accuracy: 0.9012 - loss: 0.3806 - val_accuracy: 0.7018 - val_loss: 0.9895\n",
      "Epoch 84/100\n",
      "\u001b[1m16/18\u001b[0m \u001b[32m━━━━━━━━━━━━━━━━━\u001b[0m\u001b[37m━━━\u001b[0m \u001b[1m0s\u001b[0m 15ms/step - accuracy: 0.8967 - loss: 0.3594\n",
      "Epoch 84: val_accuracy did not improve from 0.75273\n",
      "\u001b[1m18/18\u001b[0m \u001b[32m━━━━━━━━━━━━━━━━━━━━\u001b[0m\u001b[37m\u001b[0m \u001b[1m0s\u001b[0m 18ms/step - accuracy: 0.8994 - loss: 0.3521 - val_accuracy: 0.7018 - val_loss: 0.9912\n",
      "Epoch 85/100\n",
      "\u001b[1m17/18\u001b[0m \u001b[32m━━━━━━━━━━━━━━━━━━\u001b[0m\u001b[37m━━\u001b[0m \u001b[1m0s\u001b[0m 15ms/step - accuracy: 0.9338 - loss: 0.2441\n",
      "Epoch 85: val_accuracy did not improve from 0.75273\n",
      "\u001b[1m18/18\u001b[0m \u001b[32m━━━━━━━━━━━━━━━━━━━━\u001b[0m\u001b[37m\u001b[0m \u001b[1m0s\u001b[0m 18ms/step - accuracy: 0.9328 - loss: 0.2460 - val_accuracy: 0.7236 - val_loss: 0.9639\n",
      "Epoch 86/100\n",
      "\u001b[1m17/18\u001b[0m \u001b[32m━━━━━━━━━━━━━━━━━━\u001b[0m\u001b[37m━━\u001b[0m \u001b[1m0s\u001b[0m 14ms/step - accuracy: 0.9463 - loss: 0.2417\n",
      "Epoch 86: val_accuracy did not improve from 0.75273\n",
      "\u001b[1m18/18\u001b[0m \u001b[32m━━━━━━━━━━━━━━━━━━━━\u001b[0m\u001b[37m\u001b[0m \u001b[1m0s\u001b[0m 17ms/step - accuracy: 0.9472 - loss: 0.2397 - val_accuracy: 0.7164 - val_loss: 1.0064\n",
      "Epoch 87/100\n",
      "\u001b[1m17/18\u001b[0m \u001b[32m━━━━━━━━━━━━━━━━━━\u001b[0m\u001b[37m━━\u001b[0m \u001b[1m0s\u001b[0m 15ms/step - accuracy: 0.9533 - loss: 0.2290\n",
      "Epoch 87: val_accuracy did not improve from 0.75273\n",
      "\u001b[1m18/18\u001b[0m \u001b[32m━━━━━━━━━━━━━━━━━━━━\u001b[0m\u001b[37m\u001b[0m \u001b[1m0s\u001b[0m 18ms/step - accuracy: 0.9525 - loss: 0.2311 - val_accuracy: 0.7491 - val_loss: 0.9536\n",
      "Epoch 88/100\n",
      "\u001b[1m17/18\u001b[0m \u001b[32m━━━━━━━━━━━━━━━━━━\u001b[0m\u001b[37m━━\u001b[0m \u001b[1m0s\u001b[0m 15ms/step - accuracy: 0.9486 - loss: 0.2478\n",
      "Epoch 88: val_accuracy did not improve from 0.75273\n",
      "\u001b[1m18/18\u001b[0m \u001b[32m━━━━━━━━━━━━━━━━━━━━\u001b[0m\u001b[37m\u001b[0m \u001b[1m0s\u001b[0m 18ms/step - accuracy: 0.9482 - loss: 0.2465 - val_accuracy: 0.6982 - val_loss: 0.9894\n",
      "Epoch 89/100\n",
      "\u001b[1m18/18\u001b[0m \u001b[32m━━━━━━━━━━━━━━━━━━━━\u001b[0m\u001b[37m\u001b[0m \u001b[1m0s\u001b[0m 17ms/step - accuracy: 0.9448 - loss: 0.2039\n",
      "Epoch 89: val_accuracy improved from 0.75273 to 0.75636, saving model to Models/audio_best_model.keras\n",
      "\u001b[1m18/18\u001b[0m \u001b[32m━━━━━━━━━━━━━━━━━━━━\u001b[0m\u001b[37m\u001b[0m \u001b[1m1s\u001b[0m 29ms/step - accuracy: 0.9454 - loss: 0.2034 - val_accuracy: 0.7564 - val_loss: 0.9397\n",
      "Epoch 90/100\n",
      "\u001b[1m16/18\u001b[0m \u001b[32m━━━━━━━━━━━━━━━━━\u001b[0m\u001b[37m━━━\u001b[0m \u001b[1m0s\u001b[0m 16ms/step - accuracy: 0.9692 - loss: 0.1629\n",
      "Epoch 90: val_accuracy improved from 0.75636 to 0.76000, saving model to Models/audio_best_model.keras\n",
      "\u001b[1m18/18\u001b[0m \u001b[32m━━━━━━━━━━━━━━━━━━━━\u001b[0m\u001b[37m\u001b[0m \u001b[1m0s\u001b[0m 20ms/step - accuracy: 0.9687 - loss: 0.1633 - val_accuracy: 0.7600 - val_loss: 0.9842\n",
      "Epoch 91/100\n",
      "\u001b[1m18/18\u001b[0m \u001b[32m━━━━━━━━━━━━━━━━━━━━\u001b[0m\u001b[37m\u001b[0m \u001b[1m0s\u001b[0m 15ms/step - accuracy: 0.9786 - loss: 0.1483\n",
      "Epoch 91: val_accuracy did not improve from 0.76000\n",
      "\u001b[1m18/18\u001b[0m \u001b[32m━━━━━━━━━━━━━━━━━━━━\u001b[0m\u001b[37m\u001b[0m \u001b[1m0s\u001b[0m 18ms/step - accuracy: 0.9788 - loss: 0.1484 - val_accuracy: 0.7164 - val_loss: 1.0094\n",
      "Epoch 92/100\n",
      "\u001b[1m16/18\u001b[0m \u001b[32m━━━━━━━━━━━━━━━━━\u001b[0m\u001b[37m━━━\u001b[0m \u001b[1m0s\u001b[0m 15ms/step - accuracy: 0.9560 - loss: 0.1724\n",
      "Epoch 92: val_accuracy did not improve from 0.76000\n",
      "\u001b[1m18/18\u001b[0m \u001b[32m━━━━━━━━━━━━━━━━━━━━\u001b[0m\u001b[37m\u001b[0m \u001b[1m0s\u001b[0m 18ms/step - accuracy: 0.9546 - loss: 0.1759 - val_accuracy: 0.7200 - val_loss: 1.0416\n",
      "Epoch 93/100\n",
      "\u001b[1m17/18\u001b[0m \u001b[32m━━━━━━━━━━━━━━━━━━\u001b[0m\u001b[37m━━\u001b[0m \u001b[1m0s\u001b[0m 14ms/step - accuracy: 0.9738 - loss: 0.1629\n",
      "Epoch 93: val_accuracy did not improve from 0.76000\n",
      "\u001b[1m18/18\u001b[0m \u001b[32m━━━━━━━━━━━━━━━━━━━━\u001b[0m\u001b[37m\u001b[0m \u001b[1m0s\u001b[0m 17ms/step - accuracy: 0.9736 - loss: 0.1625 - val_accuracy: 0.7345 - val_loss: 0.9801\n",
      "Epoch 94/100\n",
      "\u001b[1m15/18\u001b[0m \u001b[32m━━━━━━━━━━━━━━━━\u001b[0m\u001b[37m━━━━\u001b[0m \u001b[1m0s\u001b[0m 17ms/step - accuracy: 0.9806 - loss: 0.1366\n",
      "Epoch 94: val_accuracy did not improve from 0.76000\n",
      "\u001b[1m18/18\u001b[0m \u001b[32m━━━━━━━━━━━━━━━━━━━━\u001b[0m\u001b[37m\u001b[0m \u001b[1m0s\u001b[0m 19ms/step - accuracy: 0.9790 - loss: 0.1405 - val_accuracy: 0.7273 - val_loss: 1.0468\n",
      "Epoch 95/100\n",
      "\u001b[1m17/18\u001b[0m \u001b[32m━━━━━━━━━━━━━━━━━━\u001b[0m\u001b[37m━━\u001b[0m \u001b[1m0s\u001b[0m 15ms/step - accuracy: 0.9518 - loss: 0.1899\n",
      "Epoch 95: val_accuracy did not improve from 0.76000\n",
      "\u001b[1m18/18\u001b[0m \u001b[32m━━━━━━━━━━━━━━━━━━━━\u001b[0m\u001b[37m\u001b[0m \u001b[1m0s\u001b[0m 17ms/step - accuracy: 0.9521 - loss: 0.1890 - val_accuracy: 0.7382 - val_loss: 0.9732\n",
      "Epoch 96/100\n",
      "\u001b[1m15/18\u001b[0m \u001b[32m━━━━━━━━━━━━━━━━\u001b[0m\u001b[37m━━━━\u001b[0m \u001b[1m0s\u001b[0m 18ms/step - accuracy: 0.9741 - loss: 0.1498\n",
      "Epoch 96: val_accuracy did not improve from 0.76000\n",
      "\u001b[1m18/18\u001b[0m \u001b[32m━━━━━━━━━━━━━━━━━━━━\u001b[0m\u001b[37m\u001b[0m \u001b[1m0s\u001b[0m 19ms/step - accuracy: 0.9726 - loss: 0.1513 - val_accuracy: 0.7491 - val_loss: 0.9496\n",
      "Epoch 97/100\n",
      "\u001b[1m17/18\u001b[0m \u001b[32m━━━━━━━━━━━━━━━━━━\u001b[0m\u001b[37m━━\u001b[0m \u001b[1m0s\u001b[0m 14ms/step - accuracy: 0.9783 - loss: 0.1351\n",
      "Epoch 97: val_accuracy improved from 0.76000 to 0.76364, saving model to Models/audio_best_model.keras\n",
      "\u001b[1m18/18\u001b[0m \u001b[32m━━━━━━━━━━━━━━━━━━━━\u001b[0m\u001b[37m\u001b[0m \u001b[1m0s\u001b[0m 18ms/step - accuracy: 0.9776 - loss: 0.1365 - val_accuracy: 0.7636 - val_loss: 1.0602\n",
      "Epoch 98/100\n",
      "\u001b[1m16/18\u001b[0m \u001b[32m━━━━━━━━━━━━━━━━━\u001b[0m\u001b[37m━━━\u001b[0m \u001b[1m0s\u001b[0m 15ms/step - accuracy: 0.9877 - loss: 0.1215\n",
      "Epoch 98: val_accuracy did not improve from 0.76364\n",
      "\u001b[1m18/18\u001b[0m \u001b[32m━━━━━━━━━━━━━━━━━━━━\u001b[0m\u001b[37m\u001b[0m \u001b[1m0s\u001b[0m 18ms/step - accuracy: 0.9868 - loss: 0.1223 - val_accuracy: 0.7273 - val_loss: 1.1171\n",
      "Epoch 99/100\n",
      "\u001b[1m15/18\u001b[0m \u001b[32m━━━━━━━━━━━━━━━━\u001b[0m\u001b[37m━━━━\u001b[0m \u001b[1m0s\u001b[0m 17ms/step - accuracy: 0.9854 - loss: 0.1285\n",
      "Epoch 99: val_accuracy did not improve from 0.76364\n",
      "\u001b[1m18/18\u001b[0m \u001b[32m━━━━━━━━━━━━━━━━━━━━\u001b[0m\u001b[37m\u001b[0m \u001b[1m0s\u001b[0m 23ms/step - accuracy: 0.9842 - loss: 0.1278 - val_accuracy: 0.7345 - val_loss: 1.0450\n",
      "Epoch 100/100\n",
      "\u001b[1m17/18\u001b[0m \u001b[32m━━━━━━━━━━━━━━━━━━\u001b[0m\u001b[37m━━\u001b[0m \u001b[1m0s\u001b[0m 18ms/step - accuracy: 0.9943 - loss: 0.1031\n",
      "Epoch 100: val_accuracy did not improve from 0.76364\n",
      "\u001b[1m18/18\u001b[0m \u001b[32m━━━━━━━━━━━━━━━━━━━━\u001b[0m\u001b[37m\u001b[0m \u001b[1m0s\u001b[0m 21ms/step - accuracy: 0.9942 - loss: 0.1036 - val_accuracy: 0.7527 - val_loss: 1.0180\n"
     ]
    },
    {
     "data": {
      "text/plain": [
       "<keras.src.callbacks.history.History at 0x1c85f411b50>"
      ]
     },
     "execution_count": 28,
     "metadata": {},
     "output_type": "execute_result"
    }
   ],
   "source": [
    "model.fit(X_train, y_train, epochs=100, batch_size=64, validation_data=(X_test, y_test), callbacks=[mc])"
   ]
  },
  {
   "cell_type": "markdown",
   "metadata": {},
   "source": [
    "MODEL EVALUATION"
   ]
  },
  {
   "cell_type": "code",
   "execution_count": 29,
   "metadata": {},
   "outputs": [
    {
     "name": "stdout",
     "output_type": "stream",
     "text": [
      "\u001b[1m9/9\u001b[0m \u001b[32m━━━━━━━━━━━━━━━━━━━━\u001b[0m\u001b[37m\u001b[0m \u001b[1m0s\u001b[0m 6ms/step - accuracy: 0.7597 - loss: 1.1510 \n",
      "Test accuracy: 0.7527272701263428\n"
     ]
    }
   ],
   "source": [
    "test_loss, test_acc = model.evaluate(X_test, y_test)\n",
    "print('Test accuracy:', test_acc)"
   ]
  },
  {
   "cell_type": "code",
   "execution_count": 30,
   "metadata": {},
   "outputs": [],
   "source": [
    "# model.save('audio_model.h5')"
   ]
  },
  {
   "cell_type": "code",
   "execution_count": 31,
   "metadata": {},
   "outputs": [],
   "source": [
    "np.save('Train Test Splits/A_X_train.npy', X_train)\n",
    "np.save('Train Test Splits/A_X_test.npy', X_test)\n",
    "np.save('Train Test Splits/A_y_train.npy', y_train)\n",
    "np.save('Train Test Splits/A_y_test.npy', y_test)"
   ]
  },
  {
   "cell_type": "markdown",
   "metadata": {},
   "source": [
    "LOADING THE MODEL"
   ]
  },
  {
   "cell_type": "code",
   "execution_count": 32,
   "metadata": {},
   "outputs": [],
   "source": [
    "#model = load_model('./audio_model.h5')\n",
    "# load the saved model\n",
    "model = load_model('Models/audio_best_model.keras')\n",
    "X_test = np.load('Train Test Splits/A_X_test.npy')\n",
    "y_test = np.load('Train Test Splits/A_y_test.npy')"
   ]
  },
  {
   "cell_type": "code",
   "execution_count": 33,
   "metadata": {},
   "outputs": [
    {
     "name": "stdout",
     "output_type": "stream",
     "text": [
      "\u001b[1m9/9\u001b[0m \u001b[32m━━━━━━━━━━━━━━━━━━━━\u001b[0m\u001b[37m\u001b[0m \u001b[1m1s\u001b[0m 36ms/step\n"
     ]
    }
   ],
   "source": [
    "predictions = model.predict(X_test)\n",
    "predicted_classes = np.argmax(predictions, axis=1)\n",
    "true_classes = np.argmax(y_test, axis=1)"
   ]
  },
  {
   "cell_type": "code",
   "execution_count": 34,
   "metadata": {},
   "outputs": [
    {
     "name": "stdout",
     "output_type": "stream",
     "text": [
      "              precision    recall  f1-score   support\n",
      "\n",
      "           0       0.88      0.75      0.81        71\n",
      "           1       0.71      0.72      0.72        68\n",
      "           2       0.64      0.80      0.71        59\n",
      "           3       0.85      0.79      0.82        77\n",
      "\n",
      "    accuracy                           0.76       275\n",
      "   macro avg       0.77      0.76      0.76       275\n",
      "weighted avg       0.78      0.76      0.77       275\n",
      "\n",
      "[[53  6 11  1]\n",
      " [ 1 49  9  9]\n",
      " [ 4  7 47  1]\n",
      " [ 2  7  7 61]]\n"
     ]
    }
   ],
   "source": [
    "from sklearn.metrics import classification_report, confusion_matrix\n",
    "print(classification_report(true_classes, predicted_classes))\n",
    "print(confusion_matrix(true_classes, predicted_classes))"
   ]
  },
  {
   "cell_type": "markdown",
   "metadata": {},
   "source": [
    "TESTING WITH NEW DATA"
   ]
  },
  {
   "cell_type": "code",
   "execution_count": 35,
   "metadata": {},
   "outputs": [],
   "source": [
    "def predict_emotion(audio_file_path, model):\n",
    "    y, sr = librosa.load(audio_file_path, sr=None)\n",
    "    mfcc = librosa.feature.mfcc(y=y, sr=sr, n_mfcc=13)\n",
    "    mfcc = np.mean(mfcc.T, axis=0)\n",
    "    \n",
    "    input_data = np.expand_dims(mfcc, axis=0)\n",
    "    predictions = model.predict(input_data)\n",
    "    predicted_class = np.argmax(predictions[0])\n",
    "\n",
    "    return predicted_class, predictions[0][predicted_class]"
   ]
  },
  {
   "cell_type": "code",
   "execution_count": 36,
   "metadata": {},
   "outputs": [],
   "source": [
    "#audio_file_path = './test/Angry/6783_kz_tirtil.wav' \n",
    "#audio_file_path = './test/Calm/7895_sk_deyim.wav'  \n",
    "#audio_file_path = './test/Happy/6783_mt_ordek.wav'  \n",
    "#audio_file_path = './test/Sad/6783_hl_sepet.wav' "
   ]
  },
  {
   "cell_type": "code",
   "execution_count": 37,
   "metadata": {},
   "outputs": [],
   "source": [
    "#audio_file_path = './test/Angry/7895_kz_japon.wav' \n",
    "#audio_file_path = './test/Calm/7895_sk_japon.wav' \n",
    "\n",
    "#audio_file_path = './test/Sad/7895_hl_japon.wav' "
   ]
  },
  {
   "cell_type": "code",
   "execution_count": 38,
   "metadata": {},
   "outputs": [],
   "source": [
    "\n",
    "#audio_file_path = './new sound/angry_gommek.ogg' \n",
    "#audio_file_path = './new sound/calm_gommek.ogg' \n",
    "#audio_file_path = './new sound/happy_gommek.ogg' \n",
    "#audio_file_path = './new sound/sad_gommek.ogg' \n",
    "\n",
    "#audio_file_path = './new sound/angry_sira.ogg' \n",
    "#audio_file_path = './new sound/calm_sira.ogg' \n",
    "#audio_file_path = './new sound/happy_sira.ogg' \n",
    "#audio_file_path = './new sound/sad_sira.ogg' \n",
    "\n",
    "audio_file_path = './test/Sad/7895_hl_saf.wav'"
   ]
  },
  {
   "cell_type": "code",
   "execution_count": 39,
   "metadata": {},
   "outputs": [
    {
     "name": "stdout",
     "output_type": "stream",
     "text": [
      "\u001b[1m1/1\u001b[0m \u001b[32m━━━━━━━━━━━━━━━━━━━━\u001b[0m\u001b[37m\u001b[0m \u001b[1m0s\u001b[0m 24ms/step\n"
     ]
    }
   ],
   "source": [
    "predicted_class, confidence = predict_emotion(audio_file_path, model)"
   ]
  },
  {
   "cell_type": "code",
   "execution_count": 40,
   "metadata": {},
   "outputs": [
    {
     "name": "stdout",
     "output_type": "stream",
     "text": [
      "Predicted emotion:  Angry\n",
      "Prediction confidence: % 99.87126588821411\n"
     ]
    }
   ],
   "source": [
    "emotions = {0: 'Angry', 1: 'Calm', 2: 'Happy', 3: 'Sad'}\n",
    "predicted_emotion = emotions[predicted_class]\n",
    "print(\"Predicted emotion: \", predicted_emotion)\n",
    "print(\"Prediction confidence: %\", confidence * 100)"
   ]
  }
 ],
 "metadata": {
  "kernelspec": {
   "display_name": "Python 3",
   "language": "python",
   "name": "python3"
  },
  "language_info": {
   "codemirror_mode": {
    "name": "ipython",
    "version": 3
   },
   "file_extension": ".py",
   "mimetype": "text/x-python",
   "name": "python",
   "nbconvert_exporter": "python",
   "pygments_lexer": "ipython3",
   "version": "3.12.2"
  }
 },
 "nbformat": 4,
 "nbformat_minor": 2
}
